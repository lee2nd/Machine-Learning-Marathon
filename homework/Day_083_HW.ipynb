{
 "cells": [
  {
   "cell_type": "markdown",
   "metadata": {},
   "source": [
    "## Work\n",
    "1. 試比較有 BN 在 Batch_size = 2, 16, 32, 128, 256 下的差異\n",
    "2. 請嘗試將 BN 放在 Activation 之前，並比較訓練結果\n",
    "3. 請於 BN 放在 Input Layer 後，並比較結果"
   ]
  },
  {
   "cell_type": "code",
   "execution_count": 1,
   "metadata": {},
   "outputs": [],
   "source": [
    "import os\n",
    "import keras\n",
    "import itertools\n",
    "# Disable GPU\n",
    "os.environ[\"CUDA_VISIBLE_DEVICES\"] = \"\""
   ]
  },
  {
   "cell_type": "code",
   "execution_count": 2,
   "metadata": {},
   "outputs": [],
   "source": [
    "train, test = keras.datasets.cifar10.load_data()"
   ]
  },
  {
   "cell_type": "code",
   "execution_count": 3,
   "metadata": {},
   "outputs": [],
   "source": [
    "## 資料前處理\n",
    "def preproc_x(x, flatten=True):\n",
    "    x = x / 255.\n",
    "    if flatten:\n",
    "        x = x.reshape((len(x), -1))\n",
    "    return x\n",
    "\n",
    "def preproc_y(y, num_classes=10):\n",
    "    if y.shape[-1] == 1:\n",
    "        y = keras.utils.to_categorical(y, num_classes)\n",
    "    return y    "
   ]
  },
  {
   "cell_type": "code",
   "execution_count": 4,
   "metadata": {},
   "outputs": [],
   "source": [
    "x_train, y_train = train\n",
    "x_test, y_test = test\n",
    "\n",
    "# Preproc the inputs\n",
    "x_train = preproc_x(x_train)\n",
    "x_test = preproc_x(x_test)\n",
    "\n",
    "# Preprc the outputs\n",
    "y_train = preproc_y(y_train)\n",
    "y_test = preproc_y(y_test)"
   ]
  },
  {
   "cell_type": "code",
   "execution_count": 5,
   "metadata": {},
   "outputs": [],
   "source": [
    "from keras.layers import BatchNormalization, Activation\n",
    "\n",
    "\n",
    "def build_mlp(input_shape, output_units=10, num_neurons=[512, 256, 128]):\n",
    "    input_layer = keras.layers.Input(input_shape)\n",
    "    \n",
    "    for i, n_units in enumerate(num_neurons):\n",
    "        if i == 0:\n",
    "            x = keras.layers.Dense(units=n_units, \n",
    "                                   activation=\"relu\", \n",
    "                                   name=\"hidden_layer\"+str(i+1))(input_layer)\n",
    "            x = BatchNormalization()(x)\n",
    "        else:          \n",
    "            x = keras.layers.Dense(units=n_units, \n",
    "                                   activation=\"relu\", \n",
    "                                   name=\"hidden_layer\"+str(i+1))(x)\n",
    "            x = BatchNormalization()(x)\n",
    "              \n",
    "    out = keras.layers.Dense(units=output_units, activation=\"softmax\", name=\"output\")(x)\n",
    "    \n",
    "    model = keras.models.Model(inputs=[input_layer], outputs=[out])\n",
    "    return model"
   ]
  },
  {
   "cell_type": "code",
   "execution_count": 6,
   "metadata": {},
   "outputs": [],
   "source": [
    "## 超參數設定\n",
    "LEARNING_RATE = 1e-3\n",
    "EPOCHS = 50\n",
    "BATCH_SIZE = 256\n",
    "MOMENTUM = 0.95"
   ]
  },
  {
   "cell_type": "code",
   "execution_count": 7,
   "metadata": {},
   "outputs": [
    {
     "name": "stdout",
     "output_type": "stream",
     "text": [
      "Model: \"model\"\n",
      "_________________________________________________________________\n",
      "Layer (type)                 Output Shape              Param #   \n",
      "=================================================================\n",
      "input_1 (InputLayer)         [(None, 3072)]            0         \n",
      "_________________________________________________________________\n",
      "hidden_layer1 (Dense)        (None, 512)               1573376   \n",
      "_________________________________________________________________\n",
      "batch_normalization (BatchNo (None, 512)               2048      \n",
      "_________________________________________________________________\n",
      "hidden_layer2 (Dense)        (None, 256)               131328    \n",
      "_________________________________________________________________\n",
      "batch_normalization_1 (Batch (None, 256)               1024      \n",
      "_________________________________________________________________\n",
      "hidden_layer3 (Dense)        (None, 128)               32896     \n",
      "_________________________________________________________________\n",
      "batch_normalization_2 (Batch (None, 128)               512       \n",
      "_________________________________________________________________\n",
      "output (Dense)               (None, 10)                1290      \n",
      "=================================================================\n",
      "Total params: 1,742,474\n",
      "Trainable params: 1,740,682\n",
      "Non-trainable params: 1,792\n",
      "_________________________________________________________________\n",
      "Epoch 1/50\n",
      "196/196 [==============================] - 3s 16ms/step - loss: 1.6880 - accuracy: 0.4085 - val_loss: 1.9424 - val_accuracy: 0.3226\n",
      "Epoch 2/50\n",
      "196/196 [==============================] - 3s 15ms/step - loss: 1.4726 - accuracy: 0.4793 - val_loss: 1.8789 - val_accuracy: 0.3523\n",
      "Epoch 3/50\n",
      "196/196 [==============================] - 3s 15ms/step - loss: 1.3809 - accuracy: 0.5105 - val_loss: 2.0823 - val_accuracy: 0.3110\n",
      "Epoch 4/50\n",
      "196/196 [==============================] - 3s 15ms/step - loss: 1.3120 - accuracy: 0.5345 - val_loss: 1.8551 - val_accuracy: 0.3737\n",
      "Epoch 5/50\n",
      "196/196 [==============================] - 3s 15ms/step - loss: 1.2613 - accuracy: 0.5540 - val_loss: 2.1328 - val_accuracy: 0.3488\n",
      "Epoch 6/50\n",
      "196/196 [==============================] - 3s 15ms/step - loss: 1.2095 - accuracy: 0.5714 - val_loss: 1.9193 - val_accuracy: 0.3980\n",
      "Epoch 7/50\n",
      "196/196 [==============================] - 3s 15ms/step - loss: 1.1729 - accuracy: 0.5833 - val_loss: 2.3549 - val_accuracy: 0.3098\n",
      "Epoch 8/50\n",
      "196/196 [==============================] - 3s 15ms/step - loss: 1.1295 - accuracy: 0.5997 - val_loss: 1.6329 - val_accuracy: 0.4461\n",
      "Epoch 9/50\n",
      "196/196 [==============================] - 3s 15ms/step - loss: 1.0850 - accuracy: 0.6139 - val_loss: 1.6370 - val_accuracy: 0.4575\n",
      "Epoch 10/50\n",
      "196/196 [==============================] - 3s 15ms/step - loss: 1.0497 - accuracy: 0.6243 - val_loss: 1.6870 - val_accuracy: 0.4354\n",
      "Epoch 11/50\n",
      "196/196 [==============================] - 3s 15ms/step - loss: 1.0114 - accuracy: 0.6425 - val_loss: 1.6587 - val_accuracy: 0.4526\n",
      "Epoch 12/50\n",
      "196/196 [==============================] - 3s 15ms/step - loss: 0.9764 - accuracy: 0.6551 - val_loss: 1.6734 - val_accuracy: 0.4548\n",
      "Epoch 13/50\n",
      "196/196 [==============================] - 3s 15ms/step - loss: 0.9410 - accuracy: 0.6667 - val_loss: 1.6282 - val_accuracy: 0.4666\n",
      "Epoch 14/50\n",
      "196/196 [==============================] - 3s 15ms/step - loss: 0.8998 - accuracy: 0.6823 - val_loss: 1.7448 - val_accuracy: 0.4438\n",
      "Epoch 15/50\n",
      "196/196 [==============================] - 3s 15ms/step - loss: 0.8683 - accuracy: 0.6925 - val_loss: 1.5852 - val_accuracy: 0.4808\n",
      "Epoch 16/50\n",
      "196/196 [==============================] - 3s 15ms/step - loss: 0.8454 - accuracy: 0.7005 - val_loss: 1.6787 - val_accuracy: 0.4694\n",
      "Epoch 17/50\n",
      "196/196 [==============================] - 3s 15ms/step - loss: 0.8096 - accuracy: 0.7145 - val_loss: 1.7133 - val_accuracy: 0.4651\n",
      "Epoch 18/50\n",
      "196/196 [==============================] - 3s 15ms/step - loss: 0.7778 - accuracy: 0.7215 - val_loss: 1.7196 - val_accuracy: 0.4761\n",
      "Epoch 19/50\n",
      "196/196 [==============================] - 3s 15ms/step - loss: 0.7447 - accuracy: 0.7365 - val_loss: 1.8370 - val_accuracy: 0.4611\n",
      "Epoch 20/50\n",
      "196/196 [==============================] - 3s 15ms/step - loss: 0.7162 - accuracy: 0.7472 - val_loss: 1.7257 - val_accuracy: 0.4835\n",
      "Epoch 21/50\n",
      "196/196 [==============================] - 3s 15ms/step - loss: 0.6886 - accuracy: 0.7560 - val_loss: 1.8852 - val_accuracy: 0.4696\n",
      "Epoch 22/50\n",
      "196/196 [==============================] - 3s 15ms/step - loss: 0.6673 - accuracy: 0.7612 - val_loss: 1.9383 - val_accuracy: 0.4551\n",
      "Epoch 23/50\n",
      "196/196 [==============================] - 3s 15ms/step - loss: 0.6291 - accuracy: 0.7772 - val_loss: 1.7773 - val_accuracy: 0.4937\n",
      "Epoch 24/50\n",
      "196/196 [==============================] - 3s 15ms/step - loss: 0.6082 - accuracy: 0.7840 - val_loss: 1.8407 - val_accuracy: 0.4913\n",
      "Epoch 25/50\n",
      "196/196 [==============================] - 3s 15ms/step - loss: 0.5866 - accuracy: 0.7923 - val_loss: 2.2043 - val_accuracy: 0.4545\n",
      "Epoch 26/50\n",
      "196/196 [==============================] - 3s 15ms/step - loss: 0.5574 - accuracy: 0.8028 - val_loss: 1.9036 - val_accuracy: 0.4806\n",
      "Epoch 27/50\n",
      "196/196 [==============================] - 3s 16ms/step - loss: 0.5417 - accuracy: 0.8088 - val_loss: 2.2043 - val_accuracy: 0.4383\n",
      "Epoch 28/50\n",
      "196/196 [==============================] - 3s 15ms/step - loss: 0.5228 - accuracy: 0.8153 - val_loss: 1.9407 - val_accuracy: 0.4947\n",
      "Epoch 29/50\n",
      "196/196 [==============================] - 3s 15ms/step - loss: 0.4904 - accuracy: 0.8254 - val_loss: 2.0163 - val_accuracy: 0.4858\n",
      "Epoch 30/50\n",
      "196/196 [==============================] - 3s 15ms/step - loss: 0.4761 - accuracy: 0.8329 - val_loss: 2.3747 - val_accuracy: 0.4374\n",
      "Epoch 31/50\n",
      "196/196 [==============================] - 3s 15ms/step - loss: 0.4651 - accuracy: 0.8353 - val_loss: 2.0620 - val_accuracy: 0.4787\n",
      "Epoch 32/50\n",
      "196/196 [==============================] - 3s 15ms/step - loss: 0.4408 - accuracy: 0.8435 - val_loss: 2.1104 - val_accuracy: 0.4844\n",
      "Epoch 33/50\n",
      "196/196 [==============================] - 3s 16ms/step - loss: 0.4312 - accuracy: 0.8454 - val_loss: 2.0651 - val_accuracy: 0.5017\n",
      "Epoch 34/50\n",
      "196/196 [==============================] - 3s 15ms/step - loss: 0.4075 - accuracy: 0.8567 - val_loss: 2.3270 - val_accuracy: 0.4726\n",
      "Epoch 35/50\n",
      "196/196 [==============================] - 3s 15ms/step - loss: 0.3864 - accuracy: 0.8636 - val_loss: 2.5391 - val_accuracy: 0.4477\n",
      "Epoch 36/50\n",
      "196/196 [==============================] - 3s 16ms/step - loss: 0.3907 - accuracy: 0.8599 - val_loss: 2.3078 - val_accuracy: 0.4952\n",
      "Epoch 37/50\n",
      "196/196 [==============================] - 3s 15ms/step - loss: 0.3705 - accuracy: 0.8670 - val_loss: 2.5038 - val_accuracy: 0.4516\n",
      "Epoch 38/50\n",
      "196/196 [==============================] - 3s 15ms/step - loss: 0.3569 - accuracy: 0.8734 - val_loss: 2.4886 - val_accuracy: 0.4615\n",
      "Epoch 39/50\n",
      "196/196 [==============================] - 3s 15ms/step - loss: 0.3404 - accuracy: 0.8795 - val_loss: 2.3278 - val_accuracy: 0.4860\n",
      "Epoch 40/50\n",
      "196/196 [==============================] - 3s 15ms/step - loss: 0.3263 - accuracy: 0.8852 - val_loss: 2.5374 - val_accuracy: 0.4779\n",
      "Epoch 41/50\n",
      "196/196 [==============================] - 3s 15ms/step - loss: 0.3088 - accuracy: 0.8910 - val_loss: 2.5725 - val_accuracy: 0.4756\n",
      "Epoch 42/50\n",
      "196/196 [==============================] - 3s 15ms/step - loss: 0.3142 - accuracy: 0.8878 - val_loss: 2.6408 - val_accuracy: 0.4821\n",
      "Epoch 43/50\n",
      "196/196 [==============================] - 3s 15ms/step - loss: 0.2980 - accuracy: 0.8952 - val_loss: 2.7571 - val_accuracy: 0.4706\n",
      "Epoch 44/50\n",
      "196/196 [==============================] - 3s 15ms/step - loss: 0.2928 - accuracy: 0.8960 - val_loss: 2.8288 - val_accuracy: 0.4608\n",
      "Epoch 45/50\n",
      "196/196 [==============================] - 3s 16ms/step - loss: 0.2809 - accuracy: 0.9011 - val_loss: 2.8624 - val_accuracy: 0.4571\n",
      "Epoch 46/50\n",
      "196/196 [==============================] - 3s 15ms/step - loss: 0.2737 - accuracy: 0.9036 - val_loss: 2.7020 - val_accuracy: 0.4749\n",
      "Epoch 47/50\n",
      "196/196 [==============================] - 3s 15ms/step - loss: 0.2627 - accuracy: 0.9070 - val_loss: 2.9890 - val_accuracy: 0.4528\n",
      "Epoch 48/50\n",
      "196/196 [==============================] - 3s 16ms/step - loss: 0.2541 - accuracy: 0.9111 - val_loss: 2.7628 - val_accuracy: 0.4707\n",
      "Epoch 49/50\n",
      "196/196 [==============================] - 3s 15ms/step - loss: 0.2484 - accuracy: 0.9129 - val_loss: 2.9105 - val_accuracy: 0.4626\n",
      "Epoch 50/50\n",
      "196/196 [==============================] - 3s 15ms/step - loss: 0.2454 - accuracy: 0.9130 - val_loss: 2.8732 - val_accuracy: 0.4661\n"
     ]
    }
   ],
   "source": [
    "model = build_mlp(input_shape=x_train.shape[1:])\n",
    "model.summary()\n",
    "optimizer = keras.optimizers.Adam(lr=LEARNING_RATE)\n",
    "model.compile(loss=\"categorical_crossentropy\", metrics=[\"accuracy\"], optimizer=optimizer)\n",
    "\n",
    "model.fit(x_train, y_train, \n",
    "          epochs=EPOCHS, \n",
    "          batch_size=BATCH_SIZE, \n",
    "          validation_data=(x_test, y_test), \n",
    "          shuffle=True)\n",
    "\n",
    "# Collect results\n",
    "train_loss = model.history.history[\"loss\"]\n",
    "valid_loss = model.history.history[\"val_loss\"]\n",
    "train_acc = model.history.history[\"accuracy\"]\n",
    "valid_acc = model.history.history[\"val_accuracy\"]"
   ]
  },
  {
   "cell_type": "code",
   "execution_count": 8,
   "metadata": {},
   "outputs": [
    {
     "data": {
      "image/png": "[encoded data removed]",
      "text/plain": [
       "<Figure size 432x288 with 1 Axes>"
      ]
     },
     "metadata": {
      "needs_background": "light"
     },
     "output_type": "display_data"
    },
    {
     "data": {
      "image/png": "[encoded data removed]",
      "text/plain": [
       "<Figure size 432x288 with 1 Axes>"
      ]
     },
     "metadata": {
      "needs_background": "light"
     },
     "output_type": "display_data"
    }
   ],
   "source": [
    "import matplotlib.pyplot as plt\n",
    "%matplotlib inline\n",
    "\n",
    "plt.plot(range(len(train_loss)), train_loss, label=\"train loss\")\n",
    "plt.plot(range(len(valid_loss)), valid_loss, label=\"valid loss\")\n",
    "plt.legend()\n",
    "plt.title(\"Loss\")\n",
    "plt.show()\n",
    "\n",
    "plt.plot(range(len(train_acc)), train_acc, label=\"train accuracy\")\n",
    "plt.plot(range(len(valid_acc)), valid_acc, label=\"valid accuracy\")\n",
    "plt.legend()\n",
    "plt.title(\"Accuracy\")\n",
    "plt.show()"
   ]
  }
 ],
 "metadata": {
  "kernelspec": {
   "display_name": "Python 3",
   "language": "python",
   "name": "python3"
  },
  "language_info": {
   "codemirror_mode": {
    "name": "ipython",
    "version": 3
   },
   "file_extension": ".py",
   "mimetype": "text/x-python",
   "name": "python",
   "nbconvert_exporter": "python",
   "pygments_lexer": "ipython3",
   "version": "3.7.7"
  }
 },
 "nbformat": 4,
 "nbformat_minor": 4
}
