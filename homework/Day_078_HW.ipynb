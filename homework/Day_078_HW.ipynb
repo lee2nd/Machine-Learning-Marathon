{
 "cells": [
  {
   "cell_type": "markdown",
   "metadata": {},
   "source": [
    "## Work\n",
    "1. 請嘗試將 preproc_x 替換成以每筆資料的 min/max 進行標準化至 -1 ~ 1 間，再進行訓練\n",
    "2. 請嘗試將 mlp 疊更深 (e.g 5~10 層)，進行訓練後觀察 learning curve 的走勢\n",
    "3. (optional) 請改用 GPU 進行訓練 (如果你有 GPU 的話)，比較使用 CPU 與 GPU 的訓練速度"
   ]
  },
  {
   "cell_type": "code",
   "execution_count": 1,
   "metadata": {},
   "outputs": [
    {
     "name": "stdout",
     "output_type": "stream",
     "text": [
      "Sat Aug 08 18:35:34 2020       \n",
      "+-----------------------------------------------------------------------------+\n",
      "| NVIDIA-SMI 451.22       Driver Version: 451.22       CUDA Version: 11.0     |\n",
      "|-------------------------------+----------------------+----------------------+\n",
      "| GPU  Name            TCC/WDDM | Bus-Id        Disp.A | Volatile Uncorr. ECC |\n",
      "| Fan  Temp  Perf  Pwr:Usage/Cap|         Memory-Usage | GPU-Util  Compute M. |\n",
      "|===============================+======================+======================|\n",
      "|   0  GeForce GTX 1050   WDDM  | 00000000:01:00.0 Off |                  N/A |\n",
      "| N/A   39C    P0    N/A /  N/A |     75MiB /  4096MiB |      0%      Default |\n",
      "+-------------------------------+----------------------+----------------------+\n",
      "                                                                               \n",
      "+-----------------------------------------------------------------------------+\n",
      "| Processes:                                                                  |\n",
      "|  GPU   GI   CI        PID   Type   Process name                  GPU Memory |\n",
      "|        ID   ID                                                   Usage      |\n",
      "|=============================================================================|\n",
      "|  No running processes found                                                 |\n",
      "+-----------------------------------------------------------------------------+\n"
     ]
    }
   ],
   "source": [
    "## \n",
    "\"\"\"\n",
    "Your code here (optional)\n",
    "確認硬體資源\n",
    "\"\"\"\n",
    "!nvidia-smi"
   ]
  },
  {
   "cell_type": "code",
   "execution_count": 2,
   "metadata": {},
   "outputs": [],
   "source": [
    "import os\n",
    "import keras\n",
    "\n",
    "# 請嘗試設定 GPU：os.environ\n",
    "os.environ[\"CUDA_DEVICE_ORDER\"]=\"PCI_BUS_ID\" # 設定 smi 看到的 GPU ID 符合實際設定的順序 (若一台機器有多張不同型號的卡時，會有此類問題)\n",
    "os.environ[\"CUDA_VISIBLE_DEVICES\"] = \"0\""
   ]
  },
  {
   "cell_type": "code",
   "execution_count": 3,
   "metadata": {},
   "outputs": [],
   "source": [
    "train, test = keras.datasets.cifar10.load_data()"
   ]
  },
  {
   "cell_type": "code",
   "execution_count": 4,
   "metadata": {},
   "outputs": [],
   "source": [
    "## 資料前處理\n",
    "\"\"\"\n",
    "Your code here\n",
    "\"\"\"\n",
    "def preproc_x(x, flatten=True):\n",
    "    x = 2*(((x - x.min()) / (x.max() - x.min()))-0.5)\n",
    "    if flatten:\n",
    "        x = x.reshape((len(x), -1))\n",
    "    return x\n",
    "\n",
    "def preproc_y(y, num_classes=10):\n",
    "    if y.shape[-1] == 1:\n",
    "        y = keras.utils.to_categorical(y, num_classes)\n",
    "    return y   "
   ]
  },
  {
   "cell_type": "code",
   "execution_count": 5,
   "metadata": {},
   "outputs": [],
   "source": [
    "x_train, y_train = train\n",
    "x_test, y_test = test\n",
    "\n",
    "# Preproc the inputs\n",
    "x_train = preproc_x(x_train)\n",
    "x_test = preproc_x(x_test)\n",
    "\n",
    "# Preprc the outputs\n",
    "y_train = preproc_y(y_train)\n",
    "y_test = preproc_y(y_test)"
   ]
  },
  {
   "cell_type": "code",
   "execution_count": 6,
   "metadata": {},
   "outputs": [],
   "source": [
    "\"\"\"Code Here\n",
    "建立神經網路\n",
    "\"\"\"\n",
    "def build_mlp(input_shape, output_units=10, num_neurons=[512, 256, 256, 128, 128, 128]):\n",
    "    input_layer = keras.layers.Input(input_shape)\n",
    "    \n",
    "    for i, n_units in enumerate(num_neurons):\n",
    "        if i == 0:\n",
    "            x = keras.layers.Dense(units=n_units, activation=\"relu\", name=\"hidden_layer\"+str(i+1))(input_layer)\n",
    "        else:\n",
    "            x = keras.layers.Dense(units=n_units, activation=\"relu\", name=\"hidden_layer\"+str(i+1))(x)\n",
    "    \n",
    "    out = keras.layers.Dense(units=output_units, activation=\"softmax\", name=\"output\")(x)\n",
    "    \n",
    "    model = keras.models.Model(inputs=[input_layer], outputs=[out])\n",
    "    return model"
   ]
  },
  {
   "cell_type": "code",
   "execution_count": 7,
   "metadata": {},
   "outputs": [
    {
     "name": "stdout",
     "output_type": "stream",
     "text": [
      "Model: \"model\"\n",
      "_________________________________________________________________\n",
      "Layer (type)                 Output Shape              Param #   \n",
      "=================================================================\n",
      "input_1 (InputLayer)         [(None, 3072)]            0         \n",
      "_________________________________________________________________\n",
      "hidden_layer1 (Dense)        (None, 512)               1573376   \n",
      "_________________________________________________________________\n",
      "hidden_layer2 (Dense)        (None, 256)               131328    \n",
      "_________________________________________________________________\n",
      "hidden_layer3 (Dense)        (None, 256)               65792     \n",
      "_________________________________________________________________\n",
      "hidden_layer4 (Dense)        (None, 128)               32896     \n",
      "_________________________________________________________________\n",
      "hidden_layer5 (Dense)        (None, 128)               16512     \n",
      "_________________________________________________________________\n",
      "hidden_layer6 (Dense)        (None, 128)               16512     \n",
      "_________________________________________________________________\n",
      "output (Dense)               (None, 10)                1290      \n",
      "=================================================================\n",
      "Total params: 1,837,706\n",
      "Trainable params: 1,837,706\n",
      "Non-trainable params: 0\n",
      "_________________________________________________________________\n"
     ]
    }
   ],
   "source": [
    "model = build_mlp(input_shape=x_train.shape[1:])\n",
    "model.summary()"
   ]
  },
  {
   "cell_type": "code",
   "execution_count": 8,
   "metadata": {},
   "outputs": [],
   "source": [
    "## 超參數設定\n",
    "LEARNING_RATE = 0.001\n",
    "EPOCHS = 100\n",
    "BATCH_SIZE = 256"
   ]
  },
  {
   "cell_type": "code",
   "execution_count": 9,
   "metadata": {},
   "outputs": [],
   "source": [
    "optimizer = keras.optimizers.Adam(lr=LEARNING_RATE)\n",
    "model.compile(loss=\"categorical_crossentropy\", metrics=[\"accuracy\"], optimizer=optimizer)"
   ]
  },
  {
   "cell_type": "code",
   "execution_count": 10,
   "metadata": {},
   "outputs": [
    {
     "name": "stdout",
     "output_type": "stream",
     "text": [
      "Epoch 1/100\n",
      "196/196 [==============================] - 3s 16ms/step - loss: 1.7004 - accuracy: 0.3947 - val_loss: 1.5386 - val_accuracy: 0.4553\n",
      "Epoch 2/100\n",
      "196/196 [==============================] - 3s 15ms/step - loss: 1.4719 - accuracy: 0.4789 - val_loss: 1.4610 - val_accuracy: 0.4816\n",
      "Epoch 3/100\n",
      "196/196 [==============================] - 3s 15ms/step - loss: 1.3558 - accuracy: 0.5187 - val_loss: 1.4307 - val_accuracy: 0.4977\n",
      "Epoch 4/100\n",
      "196/196 [==============================] - 3s 16ms/step - loss: 1.2591 - accuracy: 0.5551 - val_loss: 1.4094 - val_accuracy: 0.5074\n",
      "Epoch 5/100\n",
      "196/196 [==============================] - 3s 15ms/step - loss: 1.1737 - accuracy: 0.5839 - val_loss: 1.4004 - val_accuracy: 0.5135\n",
      "Epoch 6/100\n",
      "196/196 [==============================] - 3s 14ms/step - loss: 1.0991 - accuracy: 0.6078 - val_loss: 1.3708 - val_accuracy: 0.5306\n",
      "Epoch 7/100\n",
      "196/196 [==============================] - 3s 14ms/step - loss: 1.0259 - accuracy: 0.6349 - val_loss: 1.3820 - val_accuracy: 0.5324\n",
      "Epoch 8/100\n",
      "196/196 [==============================] - 3s 14ms/step - loss: 0.9468 - accuracy: 0.6628 - val_loss: 1.4185 - val_accuracy: 0.5344\n",
      "Epoch 9/100\n",
      "196/196 [==============================] - 3s 16ms/step - loss: 0.8771 - accuracy: 0.6870 - val_loss: 1.4286 - val_accuracy: 0.5404\n",
      "Epoch 10/100\n",
      "196/196 [==============================] - 3s 16ms/step - loss: 0.8148 - accuracy: 0.7092 - val_loss: 1.4807 - val_accuracy: 0.5261\n",
      "Epoch 11/100\n",
      "196/196 [==============================] - 3s 18ms/step - loss: 0.7409 - accuracy: 0.7357 - val_loss: 1.5428 - val_accuracy: 0.5349\n",
      "Epoch 12/100\n",
      "196/196 [==============================] - 3s 16ms/step - loss: 0.6832 - accuracy: 0.7557 - val_loss: 1.5732 - val_accuracy: 0.5345\n",
      "Epoch 13/100\n",
      "196/196 [==============================] - 3s 15ms/step - loss: 0.6316 - accuracy: 0.7758 - val_loss: 1.6336 - val_accuracy: 0.5340\n",
      "Epoch 14/100\n",
      "196/196 [==============================] - 3s 15ms/step - loss: 0.5808 - accuracy: 0.7928 - val_loss: 1.7310 - val_accuracy: 0.5348\n",
      "Epoch 15/100\n",
      "196/196 [==============================] - 3s 15ms/step - loss: 0.5334 - accuracy: 0.8094 - val_loss: 1.8203 - val_accuracy: 0.5307\n",
      "Epoch 16/100\n",
      "196/196 [==============================] - 3s 16ms/step - loss: 0.4918 - accuracy: 0.8264 - val_loss: 1.8359 - val_accuracy: 0.5377\n",
      "Epoch 17/100\n",
      "196/196 [==============================] - 3s 15ms/step - loss: 0.4487 - accuracy: 0.8396 - val_loss: 1.9603 - val_accuracy: 0.5388\n",
      "Epoch 18/100\n",
      "196/196 [==============================] - 3s 16ms/step - loss: 0.4138 - accuracy: 0.8526 - val_loss: 2.0634 - val_accuracy: 0.5348\n",
      "Epoch 19/100\n",
      "196/196 [==============================] - 3s 17ms/step - loss: 0.3746 - accuracy: 0.8680 - val_loss: 2.1200 - val_accuracy: 0.5271\n",
      "Epoch 20/100\n",
      "196/196 [==============================] - 3s 16ms/step - loss: 0.3589 - accuracy: 0.8724 - val_loss: 2.1529 - val_accuracy: 0.5330\n",
      "Epoch 21/100\n",
      "196/196 [==============================] - 3s 15ms/step - loss: 0.3293 - accuracy: 0.8827 - val_loss: 2.3598 - val_accuracy: 0.5242\n",
      "Epoch 22/100\n",
      "196/196 [==============================] - 3s 15ms/step - loss: 0.2976 - accuracy: 0.8946 - val_loss: 2.4307 - val_accuracy: 0.5245\n",
      "Epoch 23/100\n",
      "196/196 [==============================] - 3s 15ms/step - loss: 0.2892 - accuracy: 0.8994 - val_loss: 2.4474 - val_accuracy: 0.5364\n",
      "Epoch 24/100\n",
      "196/196 [==============================] - 3s 15ms/step - loss: 0.2622 - accuracy: 0.9080 - val_loss: 2.5473 - val_accuracy: 0.5343\n",
      "Epoch 25/100\n",
      "196/196 [==============================] - 3s 16ms/step - loss: 0.2626 - accuracy: 0.9095 - val_loss: 2.6083 - val_accuracy: 0.5329\n",
      "Epoch 26/100\n",
      "196/196 [==============================] - 3s 16ms/step - loss: 0.2473 - accuracy: 0.9130 - val_loss: 2.6881 - val_accuracy: 0.5291\n",
      "Epoch 27/100\n",
      "196/196 [==============================] - 3s 18ms/step - loss: 0.2272 - accuracy: 0.9206 - val_loss: 2.8371 - val_accuracy: 0.5276\n",
      "Epoch 28/100\n",
      "196/196 [==============================] - 3s 17ms/step - loss: 0.2199 - accuracy: 0.9249 - val_loss: 2.7814 - val_accuracy: 0.5251\n",
      "Epoch 29/100\n",
      "196/196 [==============================] - 3s 17ms/step - loss: 0.2153 - accuracy: 0.9251 - val_loss: 3.0605 - val_accuracy: 0.5323\n",
      "Epoch 30/100\n",
      "196/196 [==============================] - 3s 16ms/step - loss: 0.1995 - accuracy: 0.9307 - val_loss: 2.8109 - val_accuracy: 0.5337\n",
      "Epoch 31/100\n",
      "196/196 [==============================] - 3s 15ms/step - loss: 0.1863 - accuracy: 0.9379 - val_loss: 2.9940 - val_accuracy: 0.5333\n",
      "Epoch 32/100\n",
      "196/196 [==============================] - 3s 15ms/step - loss: 0.1933 - accuracy: 0.9337 - val_loss: 2.8386 - val_accuracy: 0.5303\n",
      "Epoch 33/100\n",
      "196/196 [==============================] - 3s 15ms/step - loss: 0.1816 - accuracy: 0.9375 - val_loss: 2.9792 - val_accuracy: 0.5299\n",
      "Epoch 34/100\n",
      "196/196 [==============================] - 3s 16ms/step - loss: 0.1595 - accuracy: 0.9448 - val_loss: 3.1519 - val_accuracy: 0.5232\n",
      "Epoch 35/100\n",
      "196/196 [==============================] - 3s 16ms/step - loss: 0.1738 - accuracy: 0.9413 - val_loss: 2.9006 - val_accuracy: 0.5262\n",
      "Epoch 36/100\n",
      "196/196 [==============================] - 3s 16ms/step - loss: 0.1579 - accuracy: 0.9465 - val_loss: 3.0855 - val_accuracy: 0.5288\n",
      "Epoch 37/100\n",
      "196/196 [==============================] - 3s 16ms/step - loss: 0.1614 - accuracy: 0.9448 - val_loss: 3.2045 - val_accuracy: 0.5369\n",
      "Epoch 38/100\n",
      "196/196 [==============================] - 3s 15ms/step - loss: 0.1451 - accuracy: 0.9513 - val_loss: 3.2431 - val_accuracy: 0.5274\n",
      "Epoch 39/100\n",
      "196/196 [==============================] - 3s 15ms/step - loss: 0.1540 - accuracy: 0.9480 - val_loss: 3.0978 - val_accuracy: 0.5316\n",
      "Epoch 40/100\n",
      "196/196 [==============================] - 3s 15ms/step - loss: 0.1434 - accuracy: 0.9526 - val_loss: 3.2401 - val_accuracy: 0.5328\n",
      "Epoch 41/100\n",
      "196/196 [==============================] - 3s 15ms/step - loss: 0.1467 - accuracy: 0.9505 - val_loss: 3.1486 - val_accuracy: 0.5245\n",
      "Epoch 42/100\n",
      "196/196 [==============================] - 3s 15ms/step - loss: 0.1375 - accuracy: 0.9545 - val_loss: 3.2950 - val_accuracy: 0.5316\n",
      "Epoch 43/100\n",
      "196/196 [==============================] - 3s 15ms/step - loss: 0.1370 - accuracy: 0.9542 - val_loss: 3.4482 - val_accuracy: 0.5190\n",
      "Epoch 44/100\n",
      "196/196 [==============================] - 3s 15ms/step - loss: 0.1226 - accuracy: 0.9602 - val_loss: 3.4614 - val_accuracy: 0.5362\n",
      "Epoch 45/100\n",
      "196/196 [==============================] - 3s 15ms/step - loss: 0.1306 - accuracy: 0.9567 - val_loss: 3.3045 - val_accuracy: 0.5396\n",
      "Epoch 46/100\n",
      "196/196 [==============================] - 3s 15ms/step - loss: 0.1271 - accuracy: 0.9565 - val_loss: 3.6764 - val_accuracy: 0.5371\n",
      "Epoch 47/100\n",
      "196/196 [==============================] - 3s 15ms/step - loss: 0.1208 - accuracy: 0.9598 - val_loss: 3.4825 - val_accuracy: 0.5288\n",
      "Epoch 48/100\n",
      "196/196 [==============================] - 3s 15ms/step - loss: 0.1258 - accuracy: 0.9585 - val_loss: 3.3284 - val_accuracy: 0.5314\n",
      "Epoch 49/100\n",
      "196/196 [==============================] - 3s 16ms/step - loss: 0.1014 - accuracy: 0.9666 - val_loss: 3.7383 - val_accuracy: 0.5333\n",
      "Epoch 50/100\n",
      "196/196 [==============================] - 3s 15ms/step - loss: 0.1209 - accuracy: 0.9596 - val_loss: 3.4023 - val_accuracy: 0.5227\n",
      "Epoch 51/100\n",
      "196/196 [==============================] - 3s 15ms/step - loss: 0.1129 - accuracy: 0.9622 - val_loss: 3.6424 - val_accuracy: 0.5300\n",
      "Epoch 52/100\n",
      "196/196 [==============================] - 3s 15ms/step - loss: 0.1081 - accuracy: 0.9637 - val_loss: 3.4552 - val_accuracy: 0.5350\n",
      "Epoch 53/100\n",
      "196/196 [==============================] - 3s 15ms/step - loss: 0.1009 - accuracy: 0.9669 - val_loss: 3.5519 - val_accuracy: 0.5323\n",
      "Epoch 54/100\n",
      "196/196 [==============================] - 3s 15ms/step - loss: 0.1161 - accuracy: 0.9625 - val_loss: 3.4590 - val_accuracy: 0.5333\n",
      "Epoch 55/100\n",
      "196/196 [==============================] - 3s 16ms/step - loss: 0.1054 - accuracy: 0.9655 - val_loss: 3.5061 - val_accuracy: 0.5358\n",
      "Epoch 56/100\n",
      "196/196 [==============================] - 3s 16ms/step - loss: 0.1064 - accuracy: 0.9647 - val_loss: 3.4308 - val_accuracy: 0.5303\n",
      "Epoch 57/100\n",
      "196/196 [==============================] - 3s 15ms/step - loss: 0.0995 - accuracy: 0.9674 - val_loss: 3.5486 - val_accuracy: 0.5303\n",
      "Epoch 58/100\n",
      "196/196 [==============================] - 3s 17ms/step - loss: 0.0961 - accuracy: 0.9683 - val_loss: 3.5992 - val_accuracy: 0.5294\n",
      "Epoch 59/100\n",
      "196/196 [==============================] - 3s 16ms/step - loss: 0.0984 - accuracy: 0.9674 - val_loss: 3.5869 - val_accuracy: 0.5384\n",
      "Epoch 60/100\n",
      "196/196 [==============================] - 3s 15ms/step - loss: 0.1064 - accuracy: 0.9647 - val_loss: 3.5123 - val_accuracy: 0.5333\n",
      "Epoch 61/100\n",
      "196/196 [==============================] - 3s 17ms/step - loss: 0.0848 - accuracy: 0.9726 - val_loss: 3.4917 - val_accuracy: 0.5327\n",
      "Epoch 62/100\n",
      "196/196 [==============================] - 3s 18ms/step - loss: 0.0919 - accuracy: 0.9692 - val_loss: 3.6231 - val_accuracy: 0.5302\n",
      "Epoch 63/100\n",
      "196/196 [==============================] - 3s 18ms/step - loss: 0.0926 - accuracy: 0.9694 - val_loss: 3.5470 - val_accuracy: 0.5239\n",
      "Epoch 64/100\n",
      "196/196 [==============================] - 3s 15ms/step - loss: 0.1002 - accuracy: 0.9672 - val_loss: 3.6309 - val_accuracy: 0.5364\n",
      "Epoch 65/100\n",
      "196/196 [==============================] - 4s 18ms/step - loss: 0.0888 - accuracy: 0.9711 - val_loss: 3.6193 - val_accuracy: 0.5333\n",
      "Epoch 66/100\n",
      "196/196 [==============================] - 3s 16ms/step - loss: 0.0793 - accuracy: 0.9736 - val_loss: 3.8888 - val_accuracy: 0.5233\n",
      "Epoch 67/100\n",
      "196/196 [==============================] - 4s 18ms/step - loss: 0.0893 - accuracy: 0.9710 - val_loss: 3.7252 - val_accuracy: 0.5393\n",
      "Epoch 68/100\n",
      "196/196 [==============================] - 3s 16ms/step - loss: 0.0985 - accuracy: 0.9678 - val_loss: 3.6412 - val_accuracy: 0.5393\n",
      "Epoch 69/100\n",
      "196/196 [==============================] - 3s 15ms/step - loss: 0.0917 - accuracy: 0.9705 - val_loss: 3.6515 - val_accuracy: 0.5296\n",
      "Epoch 70/100\n",
      "196/196 [==============================] - 3s 16ms/step - loss: 0.0799 - accuracy: 0.9740 - val_loss: 3.8162 - val_accuracy: 0.5361\n",
      "Epoch 71/100\n",
      "196/196 [==============================] - 3s 16ms/step - loss: 0.0962 - accuracy: 0.9689 - val_loss: 3.7571 - val_accuracy: 0.5358\n",
      "Epoch 72/100\n",
      "196/196 [==============================] - 3s 15ms/step - loss: 0.0800 - accuracy: 0.9736 - val_loss: 3.7581 - val_accuracy: 0.5343\n",
      "Epoch 73/100\n",
      "196/196 [==============================] - 3s 15ms/step - loss: 0.0847 - accuracy: 0.9735 - val_loss: 3.5998 - val_accuracy: 0.5351\n",
      "Epoch 74/100\n",
      "196/196 [==============================] - 3s 16ms/step - loss: 0.0675 - accuracy: 0.9786 - val_loss: 3.9642 - val_accuracy: 0.5356\n",
      "Epoch 75/100\n",
      "196/196 [==============================] - 3s 15ms/step - loss: 0.0799 - accuracy: 0.9740 - val_loss: 3.8036 - val_accuracy: 0.5310\n",
      "Epoch 76/100\n",
      "196/196 [==============================] - 3s 15ms/step - loss: 0.0800 - accuracy: 0.9751 - val_loss: 3.7367 - val_accuracy: 0.5354\n",
      "Epoch 77/100\n",
      "196/196 [==============================] - 3s 15ms/step - loss: 0.0856 - accuracy: 0.9733 - val_loss: 3.6434 - val_accuracy: 0.5366\n",
      "Epoch 78/100\n",
      "196/196 [==============================] - 3s 15ms/step - loss: 0.0797 - accuracy: 0.9745 - val_loss: 3.8510 - val_accuracy: 0.5338\n",
      "Epoch 79/100\n",
      "196/196 [==============================] - 3s 15ms/step - loss: 0.0748 - accuracy: 0.9754 - val_loss: 3.7656 - val_accuracy: 0.5398\n",
      "Epoch 80/100\n",
      "196/196 [==============================] - 3s 16ms/step - loss: 0.0734 - accuracy: 0.9753 - val_loss: 3.7735 - val_accuracy: 0.5322\n",
      "Epoch 81/100\n",
      "196/196 [==============================] - 3s 15ms/step - loss: 0.0683 - accuracy: 0.9781 - val_loss: 3.7018 - val_accuracy: 0.5343\n",
      "Epoch 82/100\n",
      "196/196 [==============================] - 3s 15ms/step - loss: 0.0725 - accuracy: 0.9767 - val_loss: 3.6524 - val_accuracy: 0.5347\n",
      "Epoch 83/100\n",
      "196/196 [==============================] - 3s 15ms/step - loss: 0.0790 - accuracy: 0.9741 - val_loss: 3.8799 - val_accuracy: 0.5374\n",
      "Epoch 84/100\n",
      "196/196 [==============================] - 3s 17ms/step - loss: 0.0719 - accuracy: 0.9772 - val_loss: 3.6806 - val_accuracy: 0.5332\n",
      "Epoch 85/100\n",
      "196/196 [==============================] - 3s 15ms/step - loss: 0.0767 - accuracy: 0.9755 - val_loss: 3.7553 - val_accuracy: 0.5297\n",
      "Epoch 86/100\n",
      "196/196 [==============================] - 3s 15ms/step - loss: 0.0657 - accuracy: 0.9789 - val_loss: 3.8062 - val_accuracy: 0.5259\n",
      "Epoch 87/100\n",
      "196/196 [==============================] - 3s 15ms/step - loss: 0.0686 - accuracy: 0.9775 - val_loss: 3.9051 - val_accuracy: 0.5309\n",
      "Epoch 88/100\n",
      "196/196 [==============================] - 3s 15ms/step - loss: 0.0767 - accuracy: 0.9753 - val_loss: 3.7595 - val_accuracy: 0.5298\n",
      "Epoch 89/100\n",
      "196/196 [==============================] - 3s 15ms/step - loss: 0.0756 - accuracy: 0.9765 - val_loss: 3.9198 - val_accuracy: 0.5377\n",
      "Epoch 90/100\n",
      "196/196 [==============================] - 3s 15ms/step - loss: 0.0591 - accuracy: 0.9813 - val_loss: 3.9918 - val_accuracy: 0.5326\n",
      "Epoch 91/100\n",
      "196/196 [==============================] - 3s 15ms/step - loss: 0.0750 - accuracy: 0.9758 - val_loss: 3.7368 - val_accuracy: 0.5354\n",
      "Epoch 92/100\n",
      "196/196 [==============================] - 3s 15ms/step - loss: 0.0587 - accuracy: 0.9804 - val_loss: 3.8386 - val_accuracy: 0.5309\n",
      "Epoch 93/100\n",
      "196/196 [==============================] - 3s 16ms/step - loss: 0.0775 - accuracy: 0.9758 - val_loss: 3.6426 - val_accuracy: 0.5271\n",
      "Epoch 94/100\n",
      "196/196 [==============================] - 3s 15ms/step - loss: 0.0557 - accuracy: 0.9831 - val_loss: 3.8820 - val_accuracy: 0.5364\n",
      "Epoch 95/100\n",
      "196/196 [==============================] - 3s 15ms/step - loss: 0.0634 - accuracy: 0.9802 - val_loss: 3.9567 - val_accuracy: 0.5281\n",
      "Epoch 96/100\n",
      "196/196 [==============================] - 3s 15ms/step - loss: 0.0653 - accuracy: 0.9790 - val_loss: 3.8833 - val_accuracy: 0.5289\n",
      "Epoch 97/100\n",
      "196/196 [==============================] - 3s 15ms/step - loss: 0.0663 - accuracy: 0.9782 - val_loss: 3.9130 - val_accuracy: 0.5327\n",
      "Epoch 98/100\n",
      "196/196 [==============================] - 3s 18ms/step - loss: 0.0629 - accuracy: 0.9805 - val_loss: 3.9932 - val_accuracy: 0.5345\n",
      "Epoch 99/100\n",
      "196/196 [==============================] - 3s 15ms/step - loss: 0.0583 - accuracy: 0.9811 - val_loss: 3.9827 - val_accuracy: 0.5338\n",
      "Epoch 100/100\n",
      "196/196 [==============================] - 3s 15ms/step - loss: 0.0753 - accuracy: 0.9763 - val_loss: 3.9049 - val_accuracy: 0.5296\n"
     ]
    },
    {
     "data": {
      "text/plain": [
       "<tensorflow.python.keras.callbacks.History at 0x1b08d4377c8>"
      ]
     },
     "execution_count": 10,
     "metadata": {},
     "output_type": "execute_result"
    }
   ],
   "source": [
    "model.fit(x_train, y_train, \n",
    "          epochs=EPOCHS, \n",
    "          batch_size=BATCH_SIZE, \n",
    "          validation_data=(x_test, y_test), \n",
    "          shuffle=True)"
   ]
  },
  {
   "cell_type": "code",
   "execution_count": 11,
   "metadata": {},
   "outputs": [
    {
     "data": {
      "image/png": "[encoded data removed]",
      "text/plain": [
       "<Figure size 432x288 with 1 Axes>"
      ]
     },
     "metadata": {
      "needs_background": "light"
     },
     "output_type": "display_data"
    },
    {
     "data": {
      "image/png": "[encoded data removed]",
      "text/plain": [
       "<Figure size 432x288 with 1 Axes>"
      ]
     },
     "metadata": {
      "needs_background": "light"
     },
     "output_type": "display_data"
    }
   ],
   "source": [
    "import matplotlib.pyplot as plt\n",
    "\n",
    "\n",
    "train_loss = model.history.history[\"loss\"]\n",
    "valid_loss = model.history.history[\"val_loss\"]\n",
    "\n",
    "train_acc = model.history.history[\"accuracy\"]\n",
    "valid_acc = model.history.history[\"val_accuracy\"]\n",
    "\n",
    "plt.plot(range(len(train_loss)), train_loss, label=\"train loss\")\n",
    "plt.plot(range(len(valid_loss)), valid_loss, label=\"valid loss\")\n",
    "plt.legend()\n",
    "plt.title(\"Loss\")\n",
    "plt.show()\n",
    "\n",
    "plt.plot(range(len(train_acc)), train_acc, label=\"train accuracy\")\n",
    "plt.plot(range(len(valid_acc)), valid_acc, label=\"valid accuracy\")\n",
    "plt.legend()\n",
    "plt.title(\"Accuracy\")\n",
    "plt.show()"
   ]
  }
 ],
 "metadata": {
  "kernelspec": {
   "display_name": "Python 3",
   "language": "python",
   "name": "python3"
  },
  "language_info": {
   "codemirror_mode": {
    "name": "ipython",
    "version": 3
   },
   "file_extension": ".py",
   "mimetype": "text/x-python",
   "name": "python",
   "nbconvert_exporter": "python",
   "pygments_lexer": "ipython3",
   "version": "3.7.7"
  }
 },
 "nbformat": 4,
 "nbformat_minor": 4
}
