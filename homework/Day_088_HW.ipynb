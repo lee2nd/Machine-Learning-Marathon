{
 "cells": [
  {
   "cell_type": "markdown",
   "metadata": {},
   "source": [
    "## Work\n",
    "1. 請嘗試寫一個 callback 用來記錄各類別在訓練過程中，對驗證集的 True Positive 與 True Negative"
   ]
  },
  {
   "cell_type": "code",
   "execution_count": 1,
   "metadata": {},
   "outputs": [],
   "source": [
    "import os\n",
    "import keras\n",
    "\n",
    "# Disable GPU\n",
    "os.environ[\"CUDA_VISIBLE_DEVICES\"] = \"\""
   ]
  },
  {
   "cell_type": "code",
   "execution_count": 2,
   "metadata": {},
   "outputs": [],
   "source": [
    "train, test = keras.datasets.cifar10.load_data()"
   ]
  },
  {
   "cell_type": "code",
   "execution_count": 3,
   "metadata": {},
   "outputs": [],
   "source": [
    "## 資料前處理\n",
    "def preproc_x(x, flatten=True):\n",
    "    x = x / 255.\n",
    "    if flatten:\n",
    "        x = x.reshape((len(x), -1))\n",
    "    return x\n",
    "\n",
    "def preproc_y(y, num_classes=10):\n",
    "    if y.shape[-1] == 1:\n",
    "        y = keras.utils.to_categorical(y, num_classes)\n",
    "    return y    "
   ]
  },
  {
   "cell_type": "code",
   "execution_count": 4,
   "metadata": {},
   "outputs": [],
   "source": [
    "x_train, y_train = train\n",
    "x_test, y_test = test\n",
    "\n",
    "# Preproc the inputs\n",
    "x_train = preproc_x(x_train)\n",
    "x_test = preproc_x(x_test)\n",
    "\n",
    "# Preprc the outputs\n",
    "y_train = preproc_y(y_train)\n",
    "y_test = preproc_y(y_test)"
   ]
  },
  {
   "cell_type": "code",
   "execution_count": 5,
   "metadata": {},
   "outputs": [],
   "source": [
    "from keras.layers import BatchNormalization\n",
    "\n",
    "def build_mlp(input_shape, output_units=10, num_neurons=[256, 256, 256]):\n",
    "    input_layer = keras.layers.Input(input_shape)\n",
    "    \n",
    "    for i, n_units in enumerate(num_neurons):\n",
    "        if i == 0:\n",
    "            x = keras.layers.Dense(units=n_units, \n",
    "                                   activation=\"relu\", \n",
    "                                   name=\"hidden_layer\"+str(i+1))(input_layer)\n",
    "            x = BatchNormalization()(x)\n",
    "        else:\n",
    "            x = keras.layers.Dense(units=n_units, \n",
    "                                   activation=\"relu\", \n",
    "                                   name=\"hidden_layer\"+str(i+1))(x)\n",
    "            x = BatchNormalization()(x)\n",
    "    \n",
    "    out = keras.layers.Dense(units=output_units, activation=\"softmax\", name=\"output\")(x)\n",
    "    \n",
    "    model = keras.models.Model(inputs=[input_layer], outputs=[out])\n",
    "    return model"
   ]
  },
  {
   "cell_type": "code",
   "execution_count": 6,
   "metadata": {},
   "outputs": [],
   "source": [
    "## 超參數設定\n",
    "LEARNING_RATE = 1e-3\n",
    "EPOCHS = 25\n",
    "BATCH_SIZE = 1024\n",
    "MOMENTUM = 0.95"
   ]
  },
  {
   "cell_type": "code",
   "execution_count": 7,
   "metadata": {},
   "outputs": [],
   "source": [
    "# 載入 Callbacks\n",
    "from keras.callbacks import Callback\n",
    "\n",
    "\"\"\"Code Here\n",
    "撰寫一個紀錄 ture positive 與 true negative 數量的 callbacks    \n",
    "\"\"\"\n",
    "\n",
    "# Record_fp_tp\n",
    "class Record_tp_tn(keras.callbacks.Callback):\n",
    "    \n",
    "    def __init__(self, val_data=(x_test, y_test)):\n",
    "        self.validation_data = val_data\n",
    "    \n",
    "    def on_train_begin(self, epoch, logs = {}):\n",
    "        logs = logs or {}\n",
    "        record_items = [\"val_tp\", \"val_tn\"]\n",
    "        for i in record_items:\n",
    "            try:\n",
    "                if i not in self.params['metrics']:\n",
    "                    self.params['metrics'].append(i)\n",
    "            except:\n",
    "                self.params['metrics']=i\n",
    "    \n",
    "    def on_epoch_end(self, epoch, logs = {}, thres=0.5):\n",
    "        logs = logs or {}\n",
    "        y_true = self.validation_data[1].argmax(axis = 1)\n",
    "        y_pred = self.model.predict(self.validation_data[0])\n",
    "        y_pred = (y_pred[:, 1] >= thres) * 1\n",
    "        \n",
    "        val_tp = sum(y_true*y_pred)\n",
    "        val_tn = sum((y_true==0) & (y_pred==0))\n",
    "        \n",
    "        logs[\"val_tp\"] = val_tp\n",
    "        logs[\"val_tn\"] = val_tn\n",
    "        \n",
    "rec_tptn = Record_tp_tn()"
   ]
  },
  {
   "cell_type": "code",
   "execution_count": 8,
   "metadata": {},
   "outputs": [
    {
     "name": "stdout",
     "output_type": "stream",
     "text": [
      "Model: \"model\"\n",
      "_________________________________________________________________\n",
      "Layer (type)                 Output Shape              Param #   \n",
      "=================================================================\n",
      "input_1 (InputLayer)         [(None, 3072)]            0         \n",
      "_________________________________________________________________\n",
      "hidden_layer1 (Dense)        (None, 256)               786688    \n",
      "_________________________________________________________________\n",
      "batch_normalization (BatchNo (None, 256)               1024      \n",
      "_________________________________________________________________\n",
      "hidden_layer2 (Dense)        (None, 256)               65792     \n",
      "_________________________________________________________________\n",
      "batch_normalization_1 (Batch (None, 256)               1024      \n",
      "_________________________________________________________________\n",
      "hidden_layer3 (Dense)        (None, 256)               65792     \n",
      "_________________________________________________________________\n",
      "batch_normalization_2 (Batch (None, 256)               1024      \n",
      "_________________________________________________________________\n",
      "output (Dense)               (None, 10)                2570      \n",
      "=================================================================\n",
      "Total params: 923,914\n",
      "Trainable params: 922,378\n",
      "Non-trainable params: 1,536\n",
      "_________________________________________________________________\n",
      "Epoch 1/25\n",
      "49/49 [==============================] - 3s 53ms/step - loss: 2.2529 - accuracy: 0.2614 - val_loss: 2.1370 - val_accuracy: 0.2017 - val_tp: 0.0000e+00 - val_tn: 1000.0000\n",
      "Epoch 2/25\n",
      "49/49 [==============================] - 2s 43ms/step - loss: 1.7548 - accuracy: 0.3890 - val_loss: 1.9827 - val_accuracy: 0.2843 - val_tp: 0.0000e+00 - val_tn: 1000.0000\n",
      "Epoch 3/25\n",
      "49/49 [==============================] - 2s 46ms/step - loss: 1.6286 - accuracy: 0.4328 - val_loss: 1.8499 - val_accuracy: 0.3564 - val_tp: 8.0000 - val_tn: 1000.0000\n",
      "Epoch 4/25\n",
      "49/49 [==============================] - 2s 43ms/step - loss: 1.5576 - accuracy: 0.4564 - val_loss: 1.7180 - val_accuracy: 0.4051 - val_tp: 256.0000 - val_tn: 1000.0000\n",
      "Epoch 5/25\n",
      "49/49 [==============================] - 2s 43ms/step - loss: 1.5050 - accuracy: 0.4741 - val_loss: 1.6440 - val_accuracy: 0.4189 - val_tp: 474.0000 - val_tn: 998.0000\n",
      "Epoch 6/25\n",
      "49/49 [==============================] - 2s 42ms/step - loss: 1.4613 - accuracy: 0.4910 - val_loss: 1.5974 - val_accuracy: 0.4354 - val_tp: 1341.0000 - val_tn: 994.0000\n",
      "Epoch 7/25\n",
      "49/49 [==============================] - 2s 48ms/step - loss: 1.4254 - accuracy: 0.5024 - val_loss: 1.5419 - val_accuracy: 0.4521 - val_tp: 1211.0000 - val_tn: 997.0000\n",
      "Epoch 8/25\n",
      "49/49 [==============================] - 2s 40ms/step - loss: 1.3918 - accuracy: 0.5171 - val_loss: 1.5300 - val_accuracy: 0.4580 - val_tp: 1424.0000 - val_tn: 994.0000\n",
      "Epoch 9/25\n",
      "49/49 [==============================] - 2s 39ms/step - loss: 1.3628 - accuracy: 0.5267 - val_loss: 1.5076 - val_accuracy: 0.4657 - val_tp: 1945.0000 - val_tn: 988.0000\n",
      "Epoch 10/25\n",
      "49/49 [==============================] - 2s 45ms/step - loss: 1.3369 - accuracy: 0.5365 - val_loss: 1.5081 - val_accuracy: 0.4719 - val_tp: 1377.0000 - val_tn: 993.0000\n",
      "Epoch 11/25\n",
      "49/49 [==============================] - 3s 71ms/step - loss: 1.3108 - accuracy: 0.5460 - val_loss: 1.4867 - val_accuracy: 0.4807 - val_tp: 2019.0000 - val_tn: 988.0000\n",
      "Epoch 12/25\n",
      "49/49 [==============================] - 4s 84ms/step - loss: 1.2880 - accuracy: 0.5545 - val_loss: 1.4819 - val_accuracy: 0.4809 - val_tp: 1751.0000 - val_tn: 988.0000\n",
      "Epoch 13/25\n",
      "49/49 [==============================] - 2s 41ms/step - loss: 1.2657 - accuracy: 0.5619 - val_loss: 1.4709 - val_accuracy: 0.4877 - val_tp: 1653.0000 - val_tn: 988.0000\n",
      "Epoch 14/25\n",
      "49/49 [==============================] - 2s 41ms/step - loss: 1.2441 - accuracy: 0.5691 - val_loss: 1.4679 - val_accuracy: 0.4885 - val_tp: 1928.0000 - val_tn: 983.0000\n",
      "Epoch 15/25\n",
      "49/49 [==============================] - 2s 41ms/step - loss: 1.2251 - accuracy: 0.5759 - val_loss: 1.4723 - val_accuracy: 0.4853 - val_tp: 2174.0000 - val_tn: 981.0000\n",
      "Epoch 16/25\n",
      "49/49 [==============================] - 2s 44ms/step - loss: 1.2039 - accuracy: 0.5856 - val_loss: 1.4636 - val_accuracy: 0.4874 - val_tp: 1830.0000 - val_tn: 989.0000\n",
      "Epoch 17/25\n",
      "49/49 [==============================] - 2s 41ms/step - loss: 1.1871 - accuracy: 0.5908 - val_loss: 1.4621 - val_accuracy: 0.4898 - val_tp: 2039.0000 - val_tn: 984.0000\n",
      "Epoch 18/25\n",
      "49/49 [==============================] - 2s 40ms/step - loss: 1.1677 - accuracy: 0.5964 - val_loss: 1.4510 - val_accuracy: 0.4975 - val_tp: 2102.0000 - val_tn: 983.0000\n",
      "Epoch 19/25\n",
      "49/49 [==============================] - 2s 40ms/step - loss: 1.1502 - accuracy: 0.6040 - val_loss: 1.4521 - val_accuracy: 0.4908 - val_tp: 2113.0000 - val_tn: 980.0000\n",
      "Epoch 20/25\n",
      "49/49 [==============================] - 2s 41ms/step - loss: 1.1311 - accuracy: 0.6123 - val_loss: 1.4488 - val_accuracy: 0.4929 - val_tp: 1689.0000 - val_tn: 988.0000\n",
      "Epoch 21/25\n",
      "49/49 [==============================] - 2s 43ms/step - loss: 1.1144 - accuracy: 0.6182 - val_loss: 1.4478 - val_accuracy: 0.4959 - val_tp: 2285.0000 - val_tn: 979.0000\n",
      "Epoch 22/25\n",
      "49/49 [==============================] - 2s 40ms/step - loss: 1.0974 - accuracy: 0.6254 - val_loss: 1.4461 - val_accuracy: 0.4982 - val_tp: 2137.0000 - val_tn: 979.0000\n",
      "Epoch 23/25\n",
      "49/49 [==============================] - 2s 41ms/step - loss: 1.0838 - accuracy: 0.6299 - val_loss: 1.4636 - val_accuracy: 0.4927 - val_tp: 2054.0000 - val_tn: 980.0000\n",
      "Epoch 24/25\n",
      "49/49 [==============================] - 2s 41ms/step - loss: 1.0655 - accuracy: 0.6357 - val_loss: 1.4450 - val_accuracy: 0.4969 - val_tp: 1941.0000 - val_tn: 982.0000\n",
      "Epoch 25/25\n",
      "49/49 [==============================] - 2s 40ms/step - loss: 1.0480 - accuracy: 0.6425 - val_loss: 1.4422 - val_accuracy: 0.4962 - val_tp: 2212.0000 - val_tn: 982.0000\n"
     ]
    }
   ],
   "source": [
    "model = build_mlp(input_shape=x_train.shape[1:])\n",
    "model.summary()\n",
    "optimizer = keras.optimizers.SGD(lr=LEARNING_RATE, nesterov=True, momentum=MOMENTUM)\n",
    "model.compile(loss=\"categorical_crossentropy\", metrics=[\"accuracy\"], optimizer=optimizer)\n",
    "\n",
    "\"\"\"Code Here\n",
    "將 callbacks 放入模型訓練流程中\n",
    "\"\"\"\n",
    "model.fit(x_train, y_train, \n",
    "          epochs=EPOCHS, \n",
    "          batch_size=BATCH_SIZE, \n",
    "          validation_data=(x_test, y_test), \n",
    "          shuffle=True,\n",
    "          callbacks=[rec_tptn]\n",
    "         )\n",
    "\n",
    "\n",
    "# Collect results\n",
    "train_loss = model.history.history[\"loss\"]\n",
    "valid_loss = model.history.history[\"val_loss\"]\n",
    "train_acc = model.history.history[\"accuracy\"]\n",
    "valid_acc = model.history.history[\"val_accuracy\"]\n",
    "\n",
    "\"\"\"Code Here\n",
    "將 tp/tn 從訓練完的模型中取出\n",
    "\"\"\"\n",
    "valid_tp = model.history.history['val_tp']\n",
    "valid_tn = model.history.history['val_tn']"
   ]
  },
  {
   "cell_type": "code",
   "execution_count": 9,
   "metadata": {},
   "outputs": [
    {
     "data": {
      "image/png": "[encoded data removed]",
      "text/plain": [
       "<Figure size 432x288 with 1 Axes>"
      ]
     },
     "metadata": {
      "needs_background": "light"
     },
     "output_type": "display_data"
    },
    {
     "data": {
      "image/png": "[encoded data removed]",
      "text/plain": [
       "<Figure size 432x288 with 1 Axes>"
      ]
     },
     "metadata": {
      "needs_background": "light"
     },
     "output_type": "display_data"
    },
    {
     "data": {
      "image/png": "[encoded data removed]",
      "text/plain": [
       "<Figure size 432x288 with 1 Axes>"
      ]
     },
     "metadata": {
      "needs_background": "light"
     },
     "output_type": "display_data"
    }
   ],
   "source": [
    "import matplotlib.pyplot as plt\n",
    "%matplotlib inline\n",
    "\n",
    "plt.plot(range(len(train_loss)), train_loss, label=\"train loss\")\n",
    "plt.plot(range(len(valid_loss)), valid_loss, label=\"valid loss\")\n",
    "plt.legend()\n",
    "plt.title(\"Loss\")\n",
    "plt.show()\n",
    "\n",
    "plt.plot(range(len(train_acc)), train_acc, label=\"train accuracy\")\n",
    "plt.plot(range(len(valid_acc)), valid_acc, label=\"valid accuracy\")\n",
    "plt.legend()\n",
    "plt.title(\"Accuracy\")\n",
    "plt.show()\n",
    "\n",
    "plt.plot(range(len(valid_tp)), valid_tp, label=\"valid tp\", color=\"navy\")\n",
    "plt.plot(range(len(valid_tn)), valid_tn, label=\"valid tn\", color=\"red\")\n",
    "plt.legend()\n",
    "plt.title(\"True positives and True Negatives\")\n",
    "plt.show()\n"
   ]
  }
 ],
 "metadata": {
  "kernelspec": {
   "display_name": "Python 3",
   "language": "python",
   "name": "python3"
  },
  "language_info": {
   "codemirror_mode": {
    "name": "ipython",
    "version": 3
   },
   "file_extension": ".py",
   "mimetype": "text/x-python",
   "name": "python",
   "nbconvert_exporter": "python",
   "pygments_lexer": "ipython3",
   "version": "3.7.7"
  }
 },
 "nbformat": 4,
 "nbformat_minor": 4
}
